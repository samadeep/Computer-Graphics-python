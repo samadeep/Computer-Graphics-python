{
 "cells": [
  {
   "cell_type": "code",
   "execution_count": 1,
   "metadata": {},
   "outputs": [
    {
     "ename": "NameError",
     "evalue": "name 'np' is not defined",
     "output_type": "error",
     "traceback": [
      "\u001b[0;31m---------------------------------------------------------------------------\u001b[0m",
      "\u001b[0;31mNameError\u001b[0m                                 Traceback (most recent call last)",
      "\u001b[1;32m/Users/samadeepsengupta/Library/Mobile Documents/com~apple~CloudDocs/ACADEMIC/CSE'25/Sem 5/CG_LABS/Lab_Test/Flag.ipynb Cell 1\u001b[0m line \u001b[0;36m3\n\u001b[1;32m     <a href='vscode-notebook-cell:/Users/samadeepsengupta/Library/Mobile%20Documents/com~apple~CloudDocs/ACADEMIC/CSE%2725/Sem%205/CG_LABS/Lab_Test/Flag.ipynb#W0sZmlsZQ%3D%3D?line=26'>27</a>\u001b[0m \u001b[39mfor\u001b[39;00m i \u001b[39min\u001b[39;00m \u001b[39mrange\u001b[39m(\u001b[39m24\u001b[39m):\n\u001b[1;32m     <a href='vscode-notebook-cell:/Users/samadeepsengupta/Library/Mobile%20Documents/com~apple~CloudDocs/ACADEMIC/CSE%2725/Sem%205/CG_LABS/Lab_Test/Flag.ipynb#W0sZmlsZQ%3D%3D?line=27'>28</a>\u001b[0m     angle \u001b[39m=\u001b[39m i \u001b[39m*\u001b[39m \u001b[39m15\u001b[39m\n\u001b[1;32m     <a href='vscode-notebook-cell:/Users/samadeepsengupta/Library/Mobile%20Documents/com~apple~CloudDocs/ACADEMIC/CSE%2725/Sem%205/CG_LABS/Lab_Test/Flag.ipynb#W0sZmlsZQ%3D%3D?line=28'>29</a>\u001b[0m     x \u001b[39m=\u001b[39m flag_width \u001b[39m/\u001b[39m \u001b[39m2\u001b[39m \u001b[39m+\u001b[39m (flag_width \u001b[39m/\u001b[39m \u001b[39m15\u001b[39m) \u001b[39m*\u001b[39m \u001b[39m1.1\u001b[39m \u001b[39m*\u001b[39m (flag_height \u001b[39m/\u001b[39m flag_width) \u001b[39m*\u001b[39m \u001b[39m2\u001b[39m \u001b[39m*\u001b[39m (\u001b[39m1\u001b[39m \u001b[39m-\u001b[39m (\u001b[39m-\u001b[39m\u001b[39m1\u001b[39m) \u001b[39m*\u001b[39m\u001b[39m*\u001b[39m i \u001b[39m*\u001b[39m \u001b[39m0.15\u001b[39m) \u001b[39m*\u001b[39m \\\n\u001b[0;32m---> <a href='vscode-notebook-cell:/Users/samadeepsengupta/Library/Mobile%20Documents/com~apple~CloudDocs/ACADEMIC/CSE%2725/Sem%205/CG_LABS/Lab_Test/Flag.ipynb#W0sZmlsZQ%3D%3D?line=29'>30</a>\u001b[0m         np\u001b[39m.\u001b[39mcos(np\u001b[39m.\u001b[39mradians(angle))\n\u001b[1;32m     <a href='vscode-notebook-cell:/Users/samadeepsengupta/Library/Mobile%20Documents/com~apple~CloudDocs/ACADEMIC/CSE%2725/Sem%205/CG_LABS/Lab_Test/Flag.ipynb#W0sZmlsZQ%3D%3D?line=30'>31</a>\u001b[0m     y \u001b[39m=\u001b[39m flag_height \u001b[39m/\u001b[39m \u001b[39m2\u001b[39m \u001b[39m+\u001b[39m (flag_height \u001b[39m/\u001b[39m \u001b[39m15\u001b[39m) \u001b[39m*\u001b[39m \u001b[39m1.1\u001b[39m \u001b[39m*\u001b[39m (flag_width \u001b[39m/\u001b[39m flag_height) \u001b[39m*\u001b[39m \u001b[39m2\u001b[39m \u001b[39m*\u001b[39m (\u001b[39m1\u001b[39m \u001b[39m-\u001b[39m (\u001b[39m-\u001b[39m\u001b[39m1\u001b[39m) \u001b[39m*\u001b[39m\u001b[39m*\u001b[39m i \u001b[39m*\u001b[39m \u001b[39m0.15\u001b[39m) \u001b[39m*\u001b[39m \\\n\u001b[1;32m     <a href='vscode-notebook-cell:/Users/samadeepsengupta/Library/Mobile%20Documents/com~apple~CloudDocs/ACADEMIC/CSE%2725/Sem%205/CG_LABS/Lab_Test/Flag.ipynb#W0sZmlsZQ%3D%3D?line=31'>32</a>\u001b[0m         np\u001b[39m.\u001b[39msin(np\u001b[39m.\u001b[39mradians(angle))\n\u001b[1;32m     <a href='vscode-notebook-cell:/Users/samadeepsengupta/Library/Mobile%20Documents/com~apple~CloudDocs/ACADEMIC/CSE%2725/Sem%205/CG_LABS/Lab_Test/Flag.ipynb#W0sZmlsZQ%3D%3D?line=32'>33</a>\u001b[0m     plt\u001b[39m.\u001b[39mplot(x, y, marker\u001b[39m=\u001b[39m\u001b[39m'\u001b[39m\u001b[39mo\u001b[39m\u001b[39m'\u001b[39m, markersize\u001b[39m=\u001b[39m\u001b[39m6\u001b[39m, color\u001b[39m=\u001b[39mnavy_blue)\n",
      "\u001b[0;31mNameError\u001b[0m: name 'np' is not defined"
     ]
    },
    {
     "data": {
      "image/png": "[encoded data removed]",
      "text/plain": [
       "<Figure size 640x480 with 1 Axes>"
      ]
     },
     "metadata": {},
     "output_type": "display_data"
    }
   ],
   "source": [
    "import matplotlib.pyplot as plt\n",
    "import matplotlib.patches as patches\n",
    "\n",
    "# Create a figure and axis\n",
    "fig, ax = plt.subplots()\n",
    "\n",
    "# Define the dimensions of the flag\n",
    "flag_width = 6.75  # In feet\n",
    "flag_height = 4.5  # In feet\n",
    "\n",
    "# Define the colors\n",
    "saffron = \"#FF9933\"  # Saffron color\n",
    "white = \"white\"\n",
    "green = \"#138808\"  # Green color\n",
    "navy_blue = \"#00008B\"  # Navy blue for Ashoka Chakra\n",
    "\n",
    "# Draw the three horizontal bands (saffron, white, and green)\n",
    "ax.add_patch(patches.Rectangle((0, flag_height * 2 / 3), flag_width, flag_height / 3, facecolor=green))\n",
    "ax.add_patch(patches.Rectangle((0, flag_height / 3), flag_width, flag_height / 3, facecolor=white))\n",
    "ax.add_patch(patches.Rectangle((0, 0), flag_width, flag_height / 3, facecolor=saffron))\n",
    "\n",
    "# Draw the Ashoka Chakra (24 spokes)\n",
    "circle = plt.Circle((flag_width / 2, flag_height / 2), flag_width / 15, color=navy_blue)\n",
    "ax.add_patch(circle)\n",
    "\n",
    "# Draw 24 spokes of the Ashoka Chakra\n",
    "for i in range(24):\n",
    "    angle = i * 15\n",
    "    x = flag_width / 2 + (flag_width / 15) * 1.1 * (flag_height / flag_width) * 2 * (1 - (-1) ** i * 0.15) * \\\n",
    "        np.cos(np.radians(angle))\n",
    "    y = flag_height / 2 + (flag_height / 15) * 1.1 * (flag_width / flag_height) * 2 * (1 - (-1) ** i * 0.15) * \\\n",
    "        np.sin(np.radians(angle))\n",
    "    plt.plot(x, y, marker='o', markersize=6, color=navy_blue)\n",
    "\n",
    "# Set the aspect ratio and axis limits\n",
    "ax.set_aspect('equal')\n",
    "ax.set_xlim(0, flag_width)\n",
    "ax.set_ylim(0, flag_height)\n",
    "\n",
    "# Remove axis labels and ticks\n",
    "ax.set_xticks([])\n",
    "ax.set_yticks([])\n",
    "ax.set_xticklabels([])\n",
    "ax.set_yticklabels([])\n",
    "\n",
    "# Set the title\n",
    "plt.title(\"Indian National Flag\")\n",
    "\n",
    "# Display the flag\n",
    "plt.show()\n"
   ]
  },
  {
   "cell_type": "code",
   "execution_count": null,
   "metadata": {},
   "outputs": [],
   "source": []
  }
 ],
 "metadata": {
  "kernelspec": {
   "display_name": "Python 3",
   "language": "python",
   "name": "python3"
  },
  "language_info": {
   "codemirror_mode": {
    "name": "ipython",
    "version": 3
   },
   "file_extension": ".py",
   "mimetype": "text/x-python",
   "name": "python",
   "nbconvert_exporter": "python",
   "pygments_lexer": "ipython3",
   "version": "3.11.1"
  }
 },
 "nbformat": 4,
 "nbformat_minor": 2
}
