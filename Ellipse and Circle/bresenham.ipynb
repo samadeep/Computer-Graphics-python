{
 "cells": [
  {
   "cell_type": "code",
   "execution_count": null,
   "metadata": {},
   "outputs": [],
   "source": []
  },
  {
   "cell_type": "code",
   "execution_count": 1,
   "metadata": {},
   "outputs": [],
   "source": [
    "import matplotlib.pyplot as plt\n",
    "\n",
    "def bresenham_line(x1, y1, x2, y2):\n",
    "    \n",
    "    dx = abs(x2 - x1)\n",
    "    dy = abs(y2 - y1)\n",
    "    \n",
    "    steep = dy > dx\n",
    "    \n",
    "    if steep:\n",
    "        x1, y1 = y1, x1\n",
    "        x2, y2 = y2, x2\n",
    "\n",
    "    if x1 > x2:\n",
    "        x1, x2 = x2, x1\n",
    "        y1, y2 = y2, y1\n",
    "\n",
    "    dx = abs(x2 - x1)\n",
    "    dy = abs(y2 - y1)\n",
    "    error = dx / 2\n",
    "    ystep = 1 if y1 < y2 else -1\n",
    "    y = y1\n",
    "\n",
    "    points = []\n",
    "    for x in range(x1, x2 + 1):\n",
    "        coord = (y, x) if steep else (x, y)\n",
    "        points.append(coord)\n",
    "        error -= dy\n",
    "        if error < 0:\n",
    "            y += ystep\n",
    "            error += dx\n",
    "    \n",
    "    return points\n"
   ]
  },
  {
   "cell_type": "code",
   "execution_count": 2,
   "metadata": {},
   "outputs": [
    {
     "data": {
      "image/png": "[encoded data removed]",
      "text/plain": [
       "<Figure size 432x288 with 1 Axes>"
      ]
     },
     "metadata": {
      "needs_background": "light"
     },
     "output_type": "display_data"
    }
   ],
   "source": [
    "# Define the endpoints of the line\n",
    "x1, y1 = 2, 3\n",
    "x2, y2 = 9, 7\n",
    "\n",
    "# Calculate the points on the line using Bresenham's algorithm\n",
    "line_points = bresenham_line(x1, y1, x2, y2)\n",
    "\n",
    "# Extract the x and y coordinates for plotting\n",
    "x_coords, y_coords = zip(*line_points)\n",
    "\n",
    "# Plot the line using Matplotlib\n",
    "plt.plot(x_coords, y_coords, marker='o')\n",
    "plt.title(\"Bresenham's Line Drawing Algorithm\")\n",
    "plt.xlabel('X')\n",
    "plt.ylabel('Y')\n",
    "plt.grid(True)\n",
    "plt.show()"
   ]
  },
  {
   "cell_type": "code",
   "execution_count": null,
   "metadata": {},
   "outputs": [],
   "source": []
  }
 ],
 "metadata": {
  "kernelspec": {
   "display_name": "Python 3",
   "language": "python",
   "name": "python3"
  },
  "language_info": {
   "codemirror_mode": {
    "name": "ipython",
    "version": 3
   },
   "file_extension": ".py",
   "mimetype": "text/x-python",
   "name": "python",
   "nbconvert_exporter": "python",
   "pygments_lexer": "ipython3",
   "version": "3.11.1"
  },
  "orig_nbformat": 4
 },
 "nbformat": 4,
 "nbformat_minor": 2
}
